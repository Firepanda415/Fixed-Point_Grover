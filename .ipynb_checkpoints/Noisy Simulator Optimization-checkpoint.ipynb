{
 "cells": [
  {
   "cell_type": "code",
   "execution_count": 1,
   "id": "fc16527f",
   "metadata": {},
   "outputs": [],
   "source": [
    "import matplotlib.pyplot as plt\n",
    "from matplotlib import cm\n",
    "plt.rcParams[\"figure.dpi\"] = 150\n",
    "\n",
    "from qiskit.ignis.verification.tomography import state_tomography_circuits, StateTomographyFitter\n",
    "from qiskit.quantum_info import DensityMatrix, Statevector\n",
    "from qiskit.quantum_info import state_fidelity\n",
    "import qiskit.ignis.mitigation.measurement as mc\n",
    "\n",
    "from qiskit import IBMQ, transpile,Aer,execute\n",
    "from qiskit import QuantumCircuit\n",
    "from qiskit.providers.aer import AerSimulator\n",
    "from qiskit.tools.visualization import plot_histogram\n",
    "\n",
    "from qiskit.quantum_info import Kraus, SuperOp, Operator\n",
    "from qiskit.providers.aer.noise import NoiseModel\n",
    "from qiskit.providers.aer.noise import QuantumError, ReadoutError\n",
    "from qiskit.providers.aer.noise import pauli_error\n",
    "from qiskit.providers.aer.noise import depolarizing_error\n",
    "from qiskit.providers.aer.noise import thermal_relaxation_error\n",
    "\n",
    "from scipy.optimize import minimize\n",
    "from scipy.optimize import Bounds\n",
    "\n",
    "import nevergrad as ng\n",
    "\n",
    "from FPG import * # The functions from FP Grover Implementation notebook\n",
    "\n",
    "import warnings\n",
    "warnings.filterwarnings('ignore')\n",
    "\n",
    "import logging\n",
    "logger = logging.getLogger()\n",
    "logger.setLevel(logging.CRITICAL)"
   ]
  },
  {
   "cell_type": "code",
   "execution_count": 2,
   "id": "646bbb6e",
   "metadata": {},
   "outputs": [],
   "source": [
    "# Global variable\n",
    "# Input parameters for the Fixed-Point Grover's search\n",
    "n = 2\n",
    "itr = 2\n",
    "indices_to_mark = 3\n",
    "d = np.sqrt(0.1)"
   ]
  },
  {
   "cell_type": "code",
   "execution_count": 3,
   "id": "24567993",
   "metadata": {},
   "outputs": [],
   "source": [
    "def param_FP_Grover_circuit(noise_params, return_params = False):\n",
    "    # Does not include measurements to allow state tomography\n",
    "    # noise_params: a numpy array reshaped to num_parameters*num_qubits*n_iters from dimension [num_parameters, num_qubits, num_iters]. \n",
    "    #               E.g., before reshape, noise_params[:,0,0] gives noise parameters for the first qubit in the first iteration\n",
    "\n",
    "    angles = noise_params.reshape((3, n)) #NOT A NUMPY ARRAY FROM SCIPY.OPTIMIZE\n",
    "    l = itr\n",
    "    L = 2*l+1\n",
    "\n",
    "    gamma_inverse = Chbshv_poly(1/L, 1/d)\n",
    "    omega = 1 - Chbshv_poly(1/L, 1/d)**(-2)\n",
    "\n",
    "    alpha =  mpm.zeros(1,l)\n",
    "    beta = mpm.zeros(1,l)\n",
    "    for i in range(l): # use i instead of j since python use 1j for sqrt(-1)\n",
    "        alpha[i] = 2*mpm.acot(mpm.tan(2*mpm.pi*(i+1)/L) * mpm.sqrt(1-1/gamma_inverse**2))\n",
    "        beta[l-(i+1)+1-1] = -alpha[i]\n",
    "\n",
    "    # Convert to numpy\n",
    "    gamma_inverse = np.array([gamma_inverse], dtype=complex)[0].real\n",
    "    omega = np.array([omega], dtype=complex)[0].real\n",
    "    alpha = np.array(alpha.tolist()[0], dtype=complex).real\n",
    "    beta = np.array(beta.tolist()[0], dtype=complex).real\n",
    "    \n",
    "    r = QuantumRegister(n+1)\n",
    "    qc = QuantumCircuit(r)\n",
    "    # Initialize |s>\n",
    "    for i in range(n):\n",
    "        qc.h(n-i) # Measurement order is the reversed qubit order\n",
    "    for i in range(itr):\n",
    "        # St(beta)\n",
    "        oracle(qc,n, indices_to_mark) # turn state into |T>|1> + sum_i (|w_i>|0>) where w_i are NOT target state, T is the target state\n",
    "        qc.p(beta[i],0) # when beta[i] = pi, this is simply a Z gate, so only has phase kickback on |T>|1> but not |w_i>|0>\n",
    "        oracle(qc,n, indices_to_mark)  # to uncompute the ancillary\n",
    "        # St(alpha)\n",
    "        for q in range(n):\n",
    "            qc.h(n-q)\n",
    "        qc.barrier()\n",
    "        for q in range(n-1):\n",
    "            qc.x(n-q)\n",
    "        qc.p(-alpha[i]/2, 1)\n",
    "        qc.mct(list(range(n, 1, -1)), 1)\n",
    "        qc.mct(list(range(n, 1, -1)), 0)\n",
    "        qc.p(-alpha[i]/2, 1)\n",
    "        qc.p(-alpha[i]/2, 0)\n",
    "        qc.mct(list(range(n, 1, -1)), 1)\n",
    "        qc.mct(list(range(n, 1, -1)), 0)\n",
    "        for q in range(n-1):\n",
    "            qc.x(n-q)\n",
    "        qc.p(alpha[i], 1)\n",
    "        qc.barrier()\n",
    "        for q in range(n):\n",
    "            qc.h(n-q)\n",
    "        qc.barrier()\n",
    "        for q in range(n):\n",
    "            qc.u(angles[0,n-q-1], angles[1,n-q-1], angles[2,n-q-1], n-q) # Add noise/denoise here\n",
    "        qc.barrier()\n",
    "    if return_params:\n",
    "        return qc, (gamma_inverse, 1/2**n, omega, alpha, beta)\n",
    "    else:\n",
    "        return r, qc"
   ]
  },
  {
   "cell_type": "markdown",
   "id": "28e56769",
   "metadata": {},
   "source": [
    "# A Noisy Simulator Mimic a Real Backend"
   ]
  },
  {
   "cell_type": "code",
   "execution_count": 4,
   "id": "929a433d",
   "metadata": {},
   "outputs": [],
   "source": [
    "# Load IBMQ Account and choose a real backend\n",
    "IBMQ.load_account()\n",
    "provider = IBMQ.get_provider('ibm-q')\n",
    "name = 'ibmq_belem'\n",
    "backend = provider.get_backend(name)\n",
    "\n",
    " # Record some information\n",
    "basis_gates = backend.configuration().basis_gates\n",
    "coupling_map = backend.configuration().coupling_map\n",
    "\n",
    "# Create a noisy simulator using this backend\n",
    "fake_backend = AerSimulator.from_backend(backend)"
   ]
  },
  {
   "cell_type": "code",
   "execution_count": 5,
   "id": "41827f91",
   "metadata": {},
   "outputs": [
    {
     "name": "stdout",
     "output_type": "stream",
     "text": [
      "NoiseModel:\n",
      "  Basis gates: ['cx', 'id', 'reset', 'rz', 'sx', 'x']\n",
      "  Instructions with noise: ['id', 'x', 'cx', 'rz', 'sx']\n",
      "  All-qubits errors: ['id', 'rz', 'sx', 'x', 'cx']\n"
     ]
    }
   ],
   "source": [
    "# Parameters\n",
    "p_1q = 4e-4 # 1-qubit depolarizing error rate\n",
    "p_2q = 1e-2 # 2-qubit depolarizing error rate\n",
    "\n",
    "# Create an empty noise model\n",
    "noise_model = NoiseModel(basis_gates) # Use the same basis_gates as the selected backend to ensure the circuit depth is the same\n",
    "\n",
    "# Add depolarizing errors\n",
    "error_1q = depolarizing_error(p_1q, 1)\n",
    "error_2q = depolarizing_error(p_2q, 2)\n",
    "noise_model.add_all_qubit_quantum_error(error_1q, ['id', 'rz', 'sx', 'x'])\n",
    "noise_model.add_all_qubit_quantum_error(error_2q, ['cx'])\n",
    "\n",
    "# Add the noise model to a simulator\n",
    "sim_noise = AerSimulator(noise_model=noise_model)\n",
    "print(noise_model)"
   ]
  },
  {
   "cell_type": "markdown",
   "id": "cc31085b",
   "metadata": {},
   "source": [
    "# Try Tomography"
   ]
  },
  {
   "cell_type": "code",
   "execution_count": 6,
   "id": "ae15dc68",
   "metadata": {},
   "outputs": [
    {
     "data": {
      "text/plain": [
       "(Statevector([-0.02882422-0.06351329j,  0.        +0.j        ,\n",
       "              -0.02882422-0.06351329j,  0.        +0.j        ,\n",
       "              -0.02882422-0.06351329j,  0.        +0.j        ,\n",
       "              -0.46700942+0.87596112j,  0.        +0.j        ],\n",
       "             dims=(2, 2, 2)),\n",
       " array([0.00486477, 0.        , 0.00486477, 0.        , 0.00486477,\n",
       "        0.        , 0.98540568, 0.        ]))"
      ]
     },
     "execution_count": 6,
     "metadata": {},
     "output_type": "execute_result"
    }
   ],
   "source": [
    "# Global variable true_state\n",
    "gs_qc = FP_Grover_circuit(n, indices_to_mark, itr, d, return_params = False)\n",
    "true_state = Statevector.from_instruction(gs_qc)\n",
    "true_state, true_state.probabilities()"
   ]
  },
  {
   "cell_type": "code",
   "execution_count": 7,
   "id": "6a1c5f38",
   "metadata": {},
   "outputs": [],
   "source": [
    "# The function we want to optimize\n",
    "# return negative fidelity\n",
    "# So ideally is -1\n",
    "def blackbox_fidelity(noise_params):\n",
    "    # Obtain tomography circuit\n",
    "    r, tomo_qc = param_FP_Grover_circuit(noise_params)\n",
    "\n",
    "    # Obtain tomography result\n",
    "    tomo_circs = state_tomography_circuits(tomo_qc, r)\n",
    "    trans_circs = transpile(tomo_circs,sim_noise, optimization_level=0)\n",
    "    job_tomo = sim_noise.run(trans_circs, shots=8192, optimization_level=0)\n",
    "    fitted = StateTomographyFitter(job_tomo.result(), tomo_circs)\n",
    "    noisy_state = fitted.fit()\n",
    "\n",
    "    # Compute state fidelity\n",
    "    fid = state_fidelity(noisy_state, true_state)\n",
    "    return -fid"
   ]
  },
  {
   "cell_type": "code",
   "execution_count": 8,
   "id": "28c50a24",
   "metadata": {},
   "outputs": [
    {
     "data": {
      "text/plain": [
       "-0.6978860442085272"
      ]
     },
     "execution_count": 8,
     "metadata": {},
     "output_type": "execute_result"
    }
   ],
   "source": [
    "blackbox_fidelity(np.zeros((3, n), dtype=np.float64).reshape(3*n))"
   ]
  },
  {
   "cell_type": "code",
   "execution_count": 9,
   "id": "e07452c8",
   "metadata": {},
   "outputs": [
    {
     "data": {
      "text/plain": [
       "-0.30002441167395577"
      ]
     },
     "execution_count": 9,
     "metadata": {},
     "output_type": "execute_result"
    }
   ],
   "source": [
    "blackbox_fidelity(np.array([1,1,1,1,1,1], dtype=np.float64).reshape(3*n))"
   ]
  },
  {
   "cell_type": "code",
   "execution_count": null,
   "id": "3a123fd1",
   "metadata": {},
   "outputs": [
    {
     "name": "stdout",
     "output_type": "stream",
     "text": [
      "Launching 1 jobs with new suggestions\n",
      "Updating fitness with value -0.7033914878354487\n",
      "99 remaining budget and 0 running jobs\n",
      "Current pessimistic best is: MultiValue<mean: -0.7033914878354487, count: 1, parameter: Array{(6,)}:[0. 0. 0. 0. 0. 0.]>\n",
      "Launching 1 jobs with new suggestions\n",
      "Updating fitness with value -0.4270240806372988\n",
      "98 remaining budget and 0 running jobs\n",
      "Current pessimistic best is: MultiValue<mean: -0.7033914878354487, count: 1, parameter: Array{(6,)}:[0. 0. 0. 0. 0. 0.]>\n",
      "Launching 1 jobs with new suggestions\n",
      "Updating fitness with value -0.42795026629411825\n",
      "97 remaining budget and 0 running jobs\n",
      "Current pessimistic best is: MultiValue<mean: -0.7033914878354487, count: 1, parameter: Array{(6,)}:[0. 0. 0. 0. 0. 0.]>\n",
      "Launching 1 jobs with new suggestions\n",
      "Updating fitness with value -0.5618234831160441\n",
      "96 remaining budget and 0 running jobs\n",
      "Current pessimistic best is: MultiValue<mean: -0.7033914878354487, count: 1, parameter: Array{(6,)}:[0. 0. 0. 0. 0. 0.]>\n",
      "Launching 1 jobs with new suggestions\n",
      "Updating fitness with value -0.5635490313283981\n",
      "95 remaining budget and 0 running jobs\n",
      "Current pessimistic best is: MultiValue<mean: -0.7033914878354487, count: 1, parameter: Array{(6,)}:[0. 0. 0. 0. 0. 0.]>\n",
      "Launching 1 jobs with new suggestions\n",
      "Updating fitness with value -0.559606336506883\n",
      "94 remaining budget and 0 running jobs\n",
      "Current pessimistic best is: MultiValue<mean: -0.7033914878354487, count: 1, parameter: Array{(6,)}:[0. 0. 0. 0. 0. 0.]>\n",
      "Launching 1 jobs with new suggestions\n",
      "Updating fitness with value -0.5650902138396688\n",
      "93 remaining budget and 0 running jobs\n",
      "Current pessimistic best is: MultiValue<mean: -0.7033914878354487, count: 1, parameter: Array{(6,)}:[0. 0. 0. 0. 0. 0.]>\n",
      "Launching 1 jobs with new suggestions\n"
     ]
    }
   ],
   "source": [
    "# Bounds for noise parameters\n",
    "# NOTE: lb and ub must be np.array, otherwise raise errors (cannot handle the case when index is an array)\n",
    "lb = np.array([0]*3*n) \n",
    "ub = np.array([2*3.141592653589793]*3*n)\n",
    "\n",
    "optimizer = ng.optimizers.NGOpt(parametrization=n*3, budget=100)\n",
    "for i in range(n*3):\n",
    "    optimizer.parametrization.register_cheap_constraint(lambda x: x[i] >= lb[i])\n",
    "    optimizer.parametrization.register_cheap_constraint(lambda x: x[i] <= ub[i])\n",
    "\n",
    "recommendation = optimizer.minimize(blackbox_fidelity, verbosity=2)"
   ]
  },
  {
   "cell_type": "code",
   "execution_count": null,
   "id": "86b49927",
   "metadata": {},
   "outputs": [],
   "source": [
    "# print(recommendation.value)\n",
    "recommendation"
   ]
  },
  {
   "cell_type": "code",
   "execution_count": null,
   "id": "2a1a06ac",
   "metadata": {},
   "outputs": [],
   "source": [
    "# bds = Bounds(lb, ub, keep_feasible=True)\n",
    "\n",
    "# # Initialize the starting point\n",
    "# noise_params_x0 = np.zeros((3, n, itr), dtype=np.float64).reshape(3*n*itr)\n",
    "\n",
    "# # Use Nelder-Mead or Powell\n",
    "# # res = minimize(blackbox_fidelity, \n",
    "# #                noise_params_x0, \n",
    "# #                args=(true_state, n, indices_to_mark, itr, d), \n",
    "# #                method='Nelder-Mead', \n",
    "# #                options={'maxfev': 1000,'xatol': 1e-8, 'disp': True})\n",
    "\n",
    "\n",
    "# res = minimize(blackbox_fidelity, \n",
    "#                noise_params_x0, \n",
    "#                args=(true_state, n, indices_to_mark, itr, d), \n",
    "#                method='Powell', \n",
    "#                bounds=bds,\n",
    "#                options={'maxiter': 1000, 'xtol': 1e-8, 'disp': True})\n",
    "\n",
    "# res"
   ]
  },
  {
   "cell_type": "code",
   "execution_count": null,
   "id": "9de581f1",
   "metadata": {},
   "outputs": [],
   "source": [
    "# Ideal Circuit\n",
    "ideal_qc = FP_Grover_circuit(n, indices_to_mark, itr, d)\n",
    "ideal_qc.measure_all()\n",
    "job_ideal = execute(ideal_qc, Aer.get_backend('qasm_simulator'), shots=8192, optimization_level=0)\n",
    "counts_ideal = job_ideal.result().get_counts()\n",
    "\n",
    "# Starting Circuit\n",
    "r, initial_qc = param_FP_Grover_circuit(n, indices_to_mark, itr, d, noise_params_x0)\n",
    "trans_qc_initial = transpile(initial_qc,sim_noise, optimization_level=0)\n",
    "trans_qc_initial.measure_all()\n",
    "job_initial = sim_noise.run(trans_qc_initial, shots=8192, optimization_level=0)\n",
    "counts_initial = job_initial.result().get_counts()\n",
    "\n",
    "# Optimized Circuit\n",
    "r, opt_qc = param_FP_Grover_circuit(n, indices_to_mark, itr, d, res.x)\n",
    "trans_qc_opt = transpile(opt_qc,sim_noise, optimization_level=0)\n",
    "trans_qc_opt.measure_all()\n",
    "job_optimized = sim_noise.run(trans_qc_opt, shots=8192, optimization_level=0)\n",
    "counts_optimized = job_optimized.result().get_counts()\n",
    "\n",
    "plot_histogram([counts_ideal, counts_initial, counts_optimized], \n",
    "               legend=['Ideal', 'Starting', 'Optimized'],\n",
    "               figsize=(15,6))"
   ]
  },
  {
   "cell_type": "code",
   "execution_count": null,
   "id": "78b0330b",
   "metadata": {},
   "outputs": [],
   "source": []
  }
 ],
 "metadata": {
  "kernelspec": {
   "display_name": "Python 3",
   "language": "python",
   "name": "python3"
  },
  "language_info": {
   "codemirror_mode": {
    "name": "ipython",
    "version": 3
   },
   "file_extension": ".py",
   "mimetype": "text/x-python",
   "name": "python",
   "nbconvert_exporter": "python",
   "pygments_lexer": "ipython3",
   "version": "3.7.10"
  }
 },
 "nbformat": 4,
 "nbformat_minor": 5
}
