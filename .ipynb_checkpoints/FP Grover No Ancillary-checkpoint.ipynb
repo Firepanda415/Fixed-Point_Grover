{
 "cells": [
  {
   "cell_type": "code",
   "execution_count": 2,
   "id": "possible-toilet",
   "metadata": {},
   "outputs": [],
   "source": [
    "import mpmath as mpm\n",
    "import numpy as np\n",
    "def Chbshv_poly(L, x): # Lth Chebyshev polynomial of the first kind\n",
    "    return mpm.cos(L * mpm.acos(x))\n",
    "    \n",
    "def Hn(n):\n",
    "    # Hadamard Gate H^{\\otimes n}\n",
    "    # Return the numpy array\n",
    "    H = 1/np.sqrt(2) * np.array([[1,1],[1,-1]])\n",
    "    Hn = H*1\n",
    "    for i in range(n-1):\n",
    "        Hn = np.kron(Hn, H)\n",
    "    return Hn\n",
    "\n",
    "\n",
    "def In(n):\n",
    "    # 2-by-2 Identity gate I^{\\otimes n}\n",
    "    # Reutrn the numpy array\n",
    "    I = np.array([[1,0],[0,1]])\n",
    "    In = I*1\n",
    "    for i in range(n-1):\n",
    "        In = np.kron(In, I)\n",
    "    return In\n",
    "\n",
    "def checkUnitary(A):\n",
    "    # Check if a given matrix A is unitary\n",
    "    # Return\n",
    "    nrow = A.shape[0]\n",
    "    return np.linalg.norm(A.dot(A.conj().T) - In(int(np.log2(nrow))))"
   ]
  },
  {
   "cell_type": "code",
   "execution_count": 3,
   "id": "useful-estimate",
   "metadata": {},
   "outputs": [],
   "source": [
    "# Input parameters for the Fixed-Point Grover's search\n",
    "n = 2 # Number of qubits \n",
    "indices_to_mark = 3 # An interger from 0 to 2**n\n",
    "\n",
    "itr = 1 # Number of iterations\n",
    "d = mpm.sqrt(0.2) # Success probability P_L >= 1 - d^2 if lambda = len(indices_to_mark)/2**n >= omega"
   ]
  },
  {
   "cell_type": "code",
   "execution_count": 4,
   "id": "sharp-hostel",
   "metadata": {},
   "outputs": [
    {
     "name": "stdout",
     "output_type": "stream",
     "text": [
      "gamma^-1 =  (1.118033988749895+0j)\n",
      "lambda =  0.25\n",
      "Omega =  (0.20000000000000007+0j)\n",
      "alpha [-1.82347658+0.j]\n",
      "beta [1.82347658+0.j]\n"
     ]
    }
   ],
   "source": [
    "# Compute the rest of parameters\n",
    "l = itr\n",
    "L = 2*l+1\n",
    "\n",
    "gamma_inverse = Chbshv_poly(1/L, 1/d)\n",
    "omega = 1 - Chbshv_poly(1/L, 1/d)**(-2)\n",
    "\n",
    "alpha =  mpm.zeros(1,l)\n",
    "beta = mpm.zeros(1,l)\n",
    "for i in range(l): # use i instead of j since python use 1j for sqrt(-1)\n",
    "    alpha[i] = 2*mpm.acot(mpm.tan(2*mpm.pi*(i+1)/L) * mpm.sqrt(1-1/gamma_inverse**2))\n",
    "    beta[l-(i+1)+1-1] = -alpha[i]\n",
    "    \n",
    "# Convert to numpy\n",
    "gamma_inverse = np.array([gamma_inverse], dtype=complex)[0]\n",
    "omega = np.array([omega], dtype=complex)[0]\n",
    "alpha = np.array(alpha.tolist()[0], dtype=complex)\n",
    "beta = np.array(beta.tolist()[0], dtype=complex)\n",
    "\n",
    "print(\"gamma^-1 = \", gamma_inverse)\n",
    "print(\"lambda = \", 1/2**n)\n",
    "print(\"Omega = \", omega)\n",
    "print(\"alpha\", alpha)\n",
    "print(\"beta\", beta)"
   ]
  },
  {
   "cell_type": "markdown",
   "id": "7429982d",
   "metadata": {},
   "source": [
    "# Compute S_s(alpha) and S_t(beta), simulate the process using matrices and vectors (assuming we know the target state)"
   ]
  },
  {
   "cell_type": "code",
   "execution_count": 5,
   "id": "integrated-wellington",
   "metadata": {},
   "outputs": [
    {
     "name": "stdout",
     "output_type": "stream",
     "text": [
      "The probability of measuring each basis (from |0...0> to |1...1>):\n",
      " [[0.03515625]\n",
      " [0.03515625]\n",
      " [0.03515625]\n",
      " [0.89453125]]\n",
      "The probability of measuring target basis 0.895\n"
     ]
    }
   ],
   "source": [
    "# Simulate the computation process\n",
    "# Start with |0...0> as default to many quantum computing platforms\n",
    "ket0 = np.zeros((2**n, 1))\n",
    "ket0[0] = 1\n",
    "\n",
    "# Initilize the state with matrix A, where |s> = A|0...0>\n",
    "A = Hn(n) # Use H^{\\otimes n} to initilize the state\n",
    "kets = np.dot(A, ket0) #Compute |s>\n",
    "\n",
    "# Compute |t>, the target state\n",
    "kett = np.zeros((2**n, 1))\n",
    "kett[indices_to_mark] = 1 \n",
    "\n",
    "# State Grover iterations\n",
    "starting_state = kets\n",
    "for i in range(itr):\n",
    "    a = alpha[i] # selected alpha\n",
    "    b = beta[i] # selected beta\n",
    "    \n",
    "    # Construct S_t(beta)\n",
    "    Sbeta = In(n) - (1-np.exp(1j*b))*np.dot(kett,kett.T)\n",
    "    if checkUnitary(Sbeta) > 1e-8:\n",
    "        print(\"Potential non-unitary S_beta at itr {:d}, norm of difference is {:.4g}\".format(i, checkUnitary(Sbeta)))\n",
    "    # Construct S_s(alpha)\n",
    "    Salpha = In(n) - (1-np.exp(-1j*a))*np.dot(kets,kets.T)\n",
    "    if checkUnitary(Salpha) > 1e-8:\n",
    "        print(\"Potential non-unitary S_alpha at itr {:d}, norm of difference is {:.4g}\".format(i, checkUnitary(Salpha)))\n",
    "\n",
    "    starting_state = np.dot(Salpha, np.dot(Sbeta, starting_state))\n",
    "    \n",
    "sol = starting_state*1 # Final output state\n",
    "print(\"The probability of measuring each basis (from |0...0> to |1...1>):\\n\", np.abs(sol)**2)\n",
    "print(\"The probability of measuring target basis {:.3g}\".format((np.abs(sol)**2)[indices_to_mark][0]))"
   ]
  },
  {
   "cell_type": "markdown",
   "id": "46859759",
   "metadata": {},
   "source": [
    "# S_s(alpha) and S_t(beta) are unitaries. So just make them two huge gates"
   ]
  },
  {
   "cell_type": "code",
   "execution_count": 6,
   "id": "moving-morocco",
   "metadata": {},
   "outputs": [
    {
     "data": {
      "text/html": [
       "<pre style=\"word-wrap: normal;white-space: pre;background: #fff0;line-height: 1.1;font-family: &quot;Courier New&quot;,Courier,monospace\">     ┌───┐┌──────────┐┌──────────┐┌─┐   \n",
       "q_0: ┤ H ├┤0         ├┤0         ├┤M├───\n",
       "     ├───┤│  unitary ││  unitary │└╥┘┌─┐\n",
       "q_1: ┤ H ├┤1         ├┤1         ├─╫─┤M├\n",
       "     └───┘└──────────┘└──────────┘ ║ └╥┘\n",
       "c: 2/══════════════════════════════╩══╩═\n",
       "                                   0  1 </pre>"
      ],
      "text/plain": [
       "     ┌───┐┌──────────┐┌──────────┐┌─┐   \n",
       "q_0: ┤ H ├┤0         ├┤0         ├┤M├───\n",
       "     ├───┤│  unitary ││  unitary │└╥┘┌─┐\n",
       "q_1: ┤ H ├┤1         ├┤1         ├─╫─┤M├\n",
       "     └───┘└──────────┘└──────────┘ ║ └╥┘\n",
       "c: 2/══════════════════════════════╩══╩═\n",
       "                                   0  1 "
      ]
     },
     "execution_count": 6,
     "metadata": {},
     "output_type": "execute_result"
    }
   ],
   "source": [
    "from qiskit.quantum_info import Operator\n",
    "from qiskit import QuantumCircuit\n",
    "from qiskit import Aer,execute, QuantumRegister, transpile\n",
    "from qiskit.visualization import plot_histogram\n",
    "\n",
    "qc = QuantumCircuit(n, n)\n",
    "for i in range(n):\n",
    "    qc.h(i)\n",
    "for i in range(itr):\n",
    "    a = alpha[i] # selected alpha\n",
    "    b = beta[i] # selected beta\n",
    "\n",
    "    Sbeta = In(n) - (1-np.exp(1j*b))*np.dot(kett,kett.T)\n",
    "    qc.unitary(Operator(Sbeta), range(n))\n",
    "    Salpha = In(n) - (1-np.exp(-1j*a))*np.dot(kets,kets.T)\n",
    "    qc.unitary(Operator(Salpha), range(n))\n",
    "\n",
    "qc.measure(range(n), range(n))\n",
    "qc.draw(output='text')"
   ]
  },
  {
   "cell_type": "code",
   "execution_count": 7,
   "id": "lesser-omaha",
   "metadata": {},
   "outputs": [
    {
     "data": {
      "image/png": "[encoded data removed]",
      "text/plain": [
       "<Figure size 504x360 with 1 Axes>"
      ]
     },
     "execution_count": 7,
     "metadata": {},
     "output_type": "execute_result"
    }
   ],
   "source": [
    "simulator = Aer.get_backend('qasm_simulator')\n",
    "counts = execute(qc, backend=simulator, shots=10000).result().get_counts()\n",
    "plot_histogram(counts)"
   ]
  },
  {
   "cell_type": "markdown",
   "id": "0393e1fa",
   "metadata": {},
   "source": [
    "## Look at the performance on the real machine"
   ]
  },
  {
   "cell_type": "code",
   "execution_count": 1,
   "id": "animated-virginia",
   "metadata": {},
   "outputs": [],
   "source": [
    "# Load IBMQ Account and choose a real backend\n",
    "from qiskit import IBMQ\n",
    "from qiskit.tools.monitor import job_monitor\n",
    "IBMQ.load_account()\n",
    "provider = IBMQ.get_provider('ibm-q')\n",
    "name = 'ibmq_belem'\n",
    "backend = provider.get_backend(name)"
   ]
  },
  {
   "cell_type": "code",
   "execution_count": 12,
   "id": "graduate-stereo",
   "metadata": {},
   "outputs": [
    {
     "name": "stdout",
     "output_type": "stream",
     "text": [
      "Circuit Depth is 40\n",
      "Job Status: job has successfully run\n"
     ]
    }
   ],
   "source": [
    "# Transile the circuit to see what the actual circuit that can run on the real device\n",
    "circ_trans = transpile(qc, backend, layout_method = \"noise_adaptive\", optimization_level=0) # Optimization level from 0 to 3, short circuit depth\n",
    "print(\"Circuit Depth is {:d}\".format(circ_trans.depth()))\n",
    "job = execute(circ_trans, backend=backend, shots=8192, optimization_level=0)\n",
    "job_monitor(job)"
   ]
  },
  {
   "cell_type": "code",
   "execution_count": 13,
   "id": "316f66f1",
   "metadata": {},
   "outputs": [
    {
     "name": "stdout",
     "output_type": "stream",
     "text": [
      "6077eb4226eae1ff206f8fae\n"
     ]
    },
    {
     "data": {
      "image/png": "[encoded data removed]",
      "text/plain": [
       "<Figure size 504x360 with 1 Axes>"
      ]
     },
     "execution_count": 13,
     "metadata": {},
     "output_type": "execute_result"
    }
   ],
   "source": [
    "print(job.job_id())\n",
    "simu_counts = execute(circ_trans, backend=Aer.get_backend('qasm_simulator'), shots=8192).result().get_counts()\n",
    "real_counts = job.result().get_counts()\n",
    "plot_histogram([simu_counts, real_counts], legend=['Simu', 'Raw'], title='1 Itr')"
   ]
  },
  {
   "cell_type": "code",
   "execution_count": 23,
   "id": "1954b65d",
   "metadata": {},
   "outputs": [],
   "source": [
    "def FP_Grover_unitary(n, indices_to_mark, itr, d, return_params = False):\n",
    "    # Compute the rest of parameters\n",
    "    l = itr\n",
    "    L = 2*l+1\n",
    "\n",
    "    gamma_inverse = Chbshv_poly(1/L, 1/d)\n",
    "    omega = 1 - Chbshv_poly(1/L, 1/d)**(-2)\n",
    "\n",
    "    alpha =  mpm.zeros(1,l)\n",
    "    beta = mpm.zeros(1,l)\n",
    "    for i in range(l): # use i instead of j since python use 1j for sqrt(-1)\n",
    "        alpha[i] = 2*mpm.acot(mpm.tan(2*mpm.pi*(i+1)/L) * mpm.sqrt(1-1/gamma_inverse**2))\n",
    "        beta[l-(i+1)+1-1] = -alpha[i]\n",
    "\n",
    "    # Convert to numpy\n",
    "    gamma_inverse = np.array([gamma_inverse], dtype=complex)[0]\n",
    "    omega = np.array([omega], dtype=complex)[0]\n",
    "    alpha = np.array(alpha.tolist()[0], dtype=complex)\n",
    "    beta = np.array(beta.tolist()[0], dtype=complex)\n",
    "    \n",
    "    # Prepare vectors\n",
    "    # Start with |0...0> as default to many quantum computing platforms\n",
    "    ket0 = np.zeros((2**n, 1))\n",
    "    ket0[0] = 1\n",
    "\n",
    "    # Initilize the state with matrix A, where |s> = A|0...0>\n",
    "    A = Hn(n) # Use H^{\\otimes n} to initilize the state\n",
    "    kets = np.dot(A, ket0) #Compute |s>\n",
    "\n",
    "    # Compute |t>, the target state\n",
    "    kett = np.zeros((2**n, 1))\n",
    "    kett[indices_to_mark] = 1 \n",
    "\n",
    "    r = QuantumRegister(n)\n",
    "    qc = QuantumCircuit(r)\n",
    "    for i in range(n):\n",
    "        qc.h(i)\n",
    "    for i in range(itr):\n",
    "        a = alpha[i] # selected alpha\n",
    "        b = beta[i] # selected beta\n",
    "\n",
    "        Sbeta = In(n) - (1-np.exp(1j*b))*np.dot(kett,kett.T)\n",
    "        qc.unitary(Operator(Sbeta), range(n))\n",
    "        Salpha = In(n) - (1-np.exp(-1j*a))*np.dot(kets,kets.T)\n",
    "        qc.unitary(Operator(Salpha), range(n))\n",
    "        \n",
    "    if return_params:\n",
    "        return qc, (gamma_inverse, 1/2**n, omega, alpha, beta)\n",
    "    else:\n",
    "        return qc"
   ]
  },
  {
   "cell_type": "code",
   "execution_count": 24,
   "id": "bfcab43c",
   "metadata": {},
   "outputs": [
    {
     "name": "stdout",
     "output_type": "stream",
     "text": [
      "Circuit Depth is 74\n",
      "Job Status: job has successfully run\n"
     ]
    }
   ],
   "source": [
    "itr = 2\n",
    "unitary_qc2 = FP_Grover_unitary(n, indices_to_mark, itr, d, return_params = False)\n",
    "unitary_qc2.measure_all()\n",
    "\n",
    "# Transile the circuit to see what the actual circuit that can run on the real device\n",
    "circ_trans2 = transpile(unitary_qc2, backend, layout_method = \"noise_adaptive\", optimization_level=0) # Optimization level from 0 to 3, short circuit depth\n",
    "print(\"Circuit Depth is {:d}\".format(circ_trans2.depth()))\n",
    "job2 = execute(circ_trans2, backend=backend, shots=8192, optimization_level=0)\n",
    "job_monitor(job2)"
   ]
  },
  {
   "cell_type": "code",
   "execution_count": 25,
   "id": "aaa19295",
   "metadata": {},
   "outputs": [
    {
     "data": {
      "text/html": [
       "<pre style=\"word-wrap: normal;white-space: pre;background: #fff0;line-height: 1.1;font-family: &quot;Courier New&quot;,Courier,monospace\">global phase: -5.7716\n",
       "                                                                           »\n",
       "ancilla_0 -> 0 ────────────────────────────────────────────────────────────»\n",
       "                                                                           »\n",
       "ancilla_1 -> 1 ────────────────────────────────────────────────────────────»\n",
       "                                                                           »\n",
       "ancilla_2 -> 2 ────────────────────────────────────────────────────────────»\n",
       "               ┌───────┐┌────┐┌──────────┐┌────┐┌────────┐┌─────────┐┌────┐»\n",
       "   q108_1 -> 3 ┤ RZ(π) ├┤ √X ├┤ RZ(3π/2) ├┤ √X ├┤ RZ(3π) ├┤ RZ(0.0) ├┤ √X ├»\n",
       "               ├───────┤├────┤├──────────┤├────┤├────────┤├─────────┤├────┤»\n",
       "   q108_0 -> 4 ┤ RZ(π) ├┤ √X ├┤ RZ(3π/2) ├┤ √X ├┤ RZ(3π) ├┤ RZ(0.0) ├┤ √X ├»\n",
       "               └───────┘└────┘└──────────┘└────┘└────────┘└─────────┘└────┘»\n",
       "       meas: 2/════════════════════════════════════════════════════════════»\n",
       "                                                                           »\n",
       "«                                                                           »\n",
       "«ancilla_0 -> 0 ────────────────────────────────────────────────────────────»\n",
       "«                                                                           »\n",
       "«ancilla_1 -> 1 ────────────────────────────────────────────────────────────»\n",
       "«                                                                           »\n",
       "«ancilla_2 -> 2 ────────────────────────────────────────────────────────────»\n",
       "«               ┌──────────┐┌────┐┌──────────┐┌───┐       ┌─────────┐       »\n",
       "«   q108_1 -> 3 ┤ RZ(3π/2) ├┤ √X ├┤ RZ(5π/2) ├┤ X ├───────┤ RZ(π/2) ├───────»\n",
       "«               └┬────────┬┘├────┤└┬────────┬┘└─┬─┘┌──────┴─────────┴──────┐»\n",
       "«   q108_0 -> 4 ─┤ RZ(2π) ├─┤ √X ├─┤ RZ(3π) ├───■──┤ RZ(0.192835807949161) ├»\n",
       "«                └────────┘ └────┘ └────────┘      └───────────────────────┘»\n",
       "«       meas: 2/════════════════════════════════════════════════════════════»\n",
       "«                                                                           »\n",
       "«                                                                    »\n",
       "«ancilla_0 -> 0 ─────────────────────────────────────────────────────»\n",
       "«                                                                    »\n",
       "«ancilla_1 -> 1 ─────────────────────────────────────────────────────»\n",
       "«                                                                    »\n",
       "«ancilla_2 -> 2 ─────────────────────────────────────────────────────»\n",
       "«               ┌────┐┌──────────┐┌────┐┌──────────────────────┐┌───┐»\n",
       "«   q108_1 -> 3 ┤ √X ├┤ RZ(3π/2) ├┤ √X ├┤ RZ(12.7677355292747) ├┤ X ├»\n",
       "«               ├────┤└┬────────┬┘├────┤├──────────────────────┤└─┬─┘»\n",
       "«   q108_0 -> 4 ┤ √X ├─┤ RZ(2π) ├─┤ √X ├┤ RZ(14.3300027491032) ├──■──»\n",
       "«               └────┘ └────────┘ └────┘└──────────────────────┘     »\n",
       "«       meas: 2/═════════════════════════════════════════════════════»\n",
       "«                                                                    »\n",
       "«                                                            »\n",
       "«ancilla_0 -> 0 ─────────────────────────────────────────────»\n",
       "«                                                            »\n",
       "«ancilla_1 -> 1 ─────────────────────────────────────────────»\n",
       "«                                                            »\n",
       "«ancilla_2 -> 2 ─────────────────────────────────────────────»\n",
       "«               ┌──────────────────────┐┌────┐┌───────┐┌────┐»\n",
       "«   q108_1 -> 3 ┤ RZ(1.47011386933715) ├┤ √X ├┤ RZ(π) ├┤ √X ├»\n",
       "«               ├──────────────────────┤├────┤├───────┤├────┤»\n",
       "«   q108_0 -> 4 ┤ RZ(3.09125142486092) ├┤ √X ├┤ RZ(π) ├┤ √X ├»\n",
       "«               └──────────────────────┘└────┘└───────┘└────┘»\n",
       "«       meas: 2/═════════════════════════════════════════════»\n",
       "«                                                            »\n",
       "«                                                                          »\n",
       "«ancilla_0 -> 0 ───────────────────────────────────────────────────────────»\n",
       "«                                                                          »\n",
       "«ancilla_1 -> 1 ───────────────────────────────────────────────────────────»\n",
       "«                                                                          »\n",
       "«ancilla_2 -> 2 ───────────────────────────────────────────────────────────»\n",
       "«               ┌──────────────────────┐┌─────────┐┌────┐ ┌────────┐ ┌────┐»\n",
       "«   q108_1 -> 3 ┤ RZ(10.8948918301065) ├┤ RZ(π/4) ├┤ √X ├─┤ RZ(2π) ├─┤ √X ├»\n",
       "«               ├──────────────────────┤├─────────┤├────┤┌┴────────┴┐├────┤»\n",
       "«   q108_0 -> 4 ┤ RZ(9.27375427458276) ├┤ RZ(0.0) ├┤ √X ├┤ RZ(3π/2) ├┤ √X ├»\n",
       "«               └──────────────────────┘└─────────┘└────┘└──────────┘└────┘»\n",
       "«       meas: 2/═══════════════════════════════════════════════════════════»\n",
       "«                                                                          »\n",
       "«                                                                      »\n",
       "«ancilla_0 -> 0 ───────────────────────────────────────────────────────»\n",
       "«                                                                      »\n",
       "«ancilla_1 -> 1 ───────────────────────────────────────────────────────»\n",
       "«                                                                      »\n",
       "«ancilla_2 -> 2 ───────────────────────────────────────────────────────»\n",
       "«               ┌───────────┐┌───┐ ┌─────────┐ ┌────┐┌──────────┐┌────┐»\n",
       "«   q108_1 -> 3 ┤ RZ(11π/4) ├┤ X ├─┤ RZ(π/2) ├─┤ √X ├┤ RZ(3π/2) ├┤ √X ├»\n",
       "«               └─┬────────┬┘└─┬─┘┌┴─────────┴┐├────┤└┬────────┬┘├────┤»\n",
       "«   q108_0 -> 4 ──┤ RZ(3π) ├───■──┤ RZ(-3π/2) ├┤ √X ├─┤ RZ(2π) ├─┤ √X ├»\n",
       "«                 └────────┘      └───────────┘└────┘ └────────┘ └────┘»\n",
       "«       meas: 2/═══════════════════════════════════════════════════════»\n",
       "«                                                                      »\n",
       "«                                                                           »\n",
       "«ancilla_0 -> 0 ────────────────────────────────────────────────────────────»\n",
       "«                                                                           »\n",
       "«ancilla_1 -> 1 ────────────────────────────────────────────────────────────»\n",
       "«                                                                           »\n",
       "«ancilla_2 -> 2 ────────────────────────────────────────────────────────────»\n",
       "«               ┌──────────────────────┐┌───┐┌───────────────────────┐┌────┐»\n",
       "«   q108_1 -> 3 ┤ RZ(13.2793454863370) ├┤ X ├┤ RZ(-2.42861778161196) ├┤ √X ├»\n",
       "«               └──────┬────────┬──────┘└─┬─┘├───────────────────────┤├────┤»\n",
       "«   q108_0 -> 4 ───────┤ RZ(3π) ├─────────■──┤ RZ(-3.85456752556763) ├┤ √X ├»\n",
       "«                      └────────┘            └───────────────────────┘└────┘»\n",
       "«       meas: 2/════════════════════════════════════════════════════════════»\n",
       "«                                                                           »\n",
       "«                                                                              »\n",
       "«ancilla_0 -> 0 ───────────────────────────────────────────────────────────────»\n",
       "«                                                                              »\n",
       "«ancilla_1 -> 1 ───────────────────────────────────────────────────────────────»\n",
       "«                                                                              »\n",
       "«ancilla_2 -> 2 ───────────────────────────────────────────────────────────────»\n",
       "«               ┌──────────┐┌────┐┌────────┐┌─────────┐┌────┐┌──────────┐┌────┐»\n",
       "«   q108_1 -> 3 ┤ RZ(3π/2) ├┤ √X ├┤ RZ(2π) ├┤ RZ(π/2) ├┤ √X ├┤ RZ(3π/2) ├┤ √X ├»\n",
       "«               ├──────────┤├────┤├────────┤├─────────┤├────┤└┬───────┬─┘├────┤»\n",
       "«   q108_0 -> 4 ┤ RZ(3π/2) ├┤ √X ├┤ RZ(3π) ├┤ RZ(π/4) ├┤ √X ├─┤ RZ(π) ├──┤ √X ├»\n",
       "«               └──────────┘└────┘└────────┘└─────────┘└────┘ └───────┘  └────┘»\n",
       "«       meas: 2/═══════════════════════════════════════════════════════════════»\n",
       "«                                                                              »\n",
       "«                                                                      »\n",
       "«ancilla_0 -> 0 ───────────────────────────────────────────────────────»\n",
       "«                                                                      »\n",
       "«ancilla_1 -> 1 ───────────────────────────────────────────────────────»\n",
       "«                                                                      »\n",
       "«ancilla_2 -> 2 ───────────────────────────────────────────────────────»\n",
       "«                ┌──────────┐┌───┐ ┌─────────┐ ┌────┐┌──────────┐┌────┐»\n",
       "«   q108_1 -> 3 ─┤ RZ(5π/2) ├┤ X ├─┤ RZ(π/2) ├─┤ √X ├┤ RZ(3π/2) ├┤ √X ├»\n",
       "«               ┌┴──────────┤└─┬─┘┌┴─────────┴┐├────┤└┬────────┬┘├────┤»\n",
       "«   q108_0 -> 4 ┤ RZ(13π/4) ├──■──┤ RZ(-3π/2) ├┤ √X ├─┤ RZ(2π) ├─┤ √X ├»\n",
       "«               └───────────┘     └───────────┘└────┘ └────────┘ └────┘»\n",
       "«       meas: 2/═══════════════════════════════════════════════════════»\n",
       "«                                                                      »\n",
       "«                                                                          »\n",
       "«ancilla_0 -> 0 ───────────────────────────────────────────────────────────»\n",
       "«                                                                          »\n",
       "«ancilla_1 -> 1 ───────────────────────────────────────────────────────────»\n",
       "«                                                                          »\n",
       "«ancilla_2 -> 2 ───────────────────────────────────────────────────────────»\n",
       "«               ┌──────────────────────┐┌───┐┌──────────────────────┐┌────┐»\n",
       "«   q108_1 -> 3 ┤ RZ(13.2793454863370) ├┤ X ├┤ RZ(2.71268192618126) ├┤ √X ├»\n",
       "«               └──────┬────────┬──────┘└─┬─┘├──────────────────────┤├────┤»\n",
       "«   q108_0 -> 4 ───────┤ RZ(3π) ├─────────■──┤ RZ(1.19444936644757) ├┤ √X ├»\n",
       "«                      └────────┘            └──────────────────────┘└────┘»\n",
       "«       meas: 2/═══════════════════════════════════════════════════════════»\n",
       "«                                                                          »\n",
       "«                                                                         »\n",
       "«ancilla_0 -> 0 ──────────────────────────────────────────────────────────»\n",
       "«                                                                         »\n",
       "«ancilla_1 -> 1 ──────────────────────────────────────────────────────────»\n",
       "«                                                                         »\n",
       "«ancilla_2 -> 2 ──────────────────────────────────────────────────────────»\n",
       "«               ┌───────┐ ┌────┐┌──────────────────────┐┌──────────┐┌────┐»\n",
       "«   q108_1 -> 3 ┤ RZ(π) ├─┤ √X ├┤ RZ(12.1374598869506) ├┤ RZ(-π/2) ├┤ √X ├»\n",
       "«               ├───────┴┐├────┤├──────────────────────┤└┬────────┬┘├────┤»\n",
       "«   q108_0 -> 4 ┤ RZ(2π) ├┤ √X ├┤ RZ(12.9029985259897) ├─┤ RZ(-π) ├─┤ √X ├»\n",
       "«               └────────┘└────┘└──────────────────────┘ └────────┘ └────┘»\n",
       "«       meas: 2/══════════════════════════════════════════════════════════»\n",
       "«                                                                         »\n",
       "«                                                                     »\n",
       "«ancilla_0 -> 0 ──────────────────────────────────────────────────────»\n",
       "«                                                                     »\n",
       "«ancilla_1 -> 1 ──────────────────────────────────────────────────────»\n",
       "«                                                                     »\n",
       "«ancilla_2 -> 2 ──────────────────────────────────────────────────────»\n",
       "«               ┌──────────┐┌────┐ ┌────────┐ ┌───┐ ┌─────────┐ ┌────┐»\n",
       "«   q108_1 -> 3 ┤ RZ(3π/2) ├┤ √X ├─┤ RZ(2π) ├─┤ X ├─┤ RZ(π/2) ├─┤ √X ├»\n",
       "«               ├──────────┤├────┤┌┴────────┴┐└─┬─┘┌┴─────────┴┐├────┤»\n",
       "«   q108_0 -> 4 ┤ RZ(3π/2) ├┤ √X ├┤ RZ(5π/2) ├──■──┤ RZ(-3π/2) ├┤ √X ├»\n",
       "«               └──────────┘└────┘└──────────┘     └───────────┘└────┘»\n",
       "«       meas: 2/══════════════════════════════════════════════════════»\n",
       "«                                                                     »\n",
       "«                                                              »\n",
       "«ancilla_0 -> 0 ───────────────────────────────────────────────»\n",
       "«                                                              »\n",
       "«ancilla_1 -> 1 ───────────────────────────────────────────────»\n",
       "«                                                              »\n",
       "«ancilla_2 -> 2 ───────────────────────────────────────────────»\n",
       "«               ┌──────────┐┌────┐┌──────────────────────┐┌───┐»\n",
       "«   q108_1 -> 3 ┤ RZ(3π/2) ├┤ √X ├┤ RZ(12.7677355292747) ├┤ X ├»\n",
       "«               └┬────────┬┘├────┤└──────┬────────┬──────┘└─┬─┘»\n",
       "«   q108_0 -> 4 ─┤ RZ(2π) ├─┤ √X ├───────┤ RZ(3π) ├─────────■──»\n",
       "«                └────────┘ └────┘       └────────┘            »\n",
       "«       meas: 2/═══════════════════════════════════════════════»\n",
       "«                                                              »\n",
       "«                                                                            »\n",
       "«ancilla_0 -> 0 ─────────────────────────────────────────────────────────────»\n",
       "«                                                                            »\n",
       "«ancilla_1 -> 1 ─────────────────────────────────────────────────────────────»\n",
       "«                                                                            »\n",
       "«ancilla_2 -> 2 ─────────────────────────────────────────────────────────────»\n",
       "«               ┌──────────────────────┐┌────┐┌──────────┐┌────┐┌────────┐ ░ »\n",
       "«   q108_1 -> 3 ┤ RZ(1.36943141187941) ├┤ √X ├┤ RZ(3π/2) ├┤ √X ├┤ RZ(2π) ├─░─»\n",
       "«               ├──────────────────────┤├────┤├──────────┤├────┤├────────┤ ░ »\n",
       "«   q108_0 -> 4 ┤ RZ(1.36943141187941) ├┤ √X ├┤ RZ(3π/2) ├┤ √X ├┤ RZ(2π) ├─░─»\n",
       "«               └──────────────────────┘└────┘└──────────┘└────┘└────────┘ ░ »\n",
       "«       meas: 2/═════════════════════════════════════════════════════════════»\n",
       "«                                                                            »\n",
       "«                     \n",
       "«ancilla_0 -> 0 ──────\n",
       "«                     \n",
       "«ancilla_1 -> 1 ──────\n",
       "«                     \n",
       "«ancilla_2 -> 2 ──────\n",
       "«                  ┌─┐\n",
       "«   q108_1 -> 3 ───┤M├\n",
       "«               ┌─┐└╥┘\n",
       "«   q108_0 -> 4 ┤M├─╫─\n",
       "«               └╥┘ ║ \n",
       "«       meas: 2/═╩══╩═\n",
       "«                0  1 </pre>"
      ],
      "text/plain": [
       "global phase: -5.7716\n",
       "                                                                           »\n",
       "ancilla_0 -> 0 ────────────────────────────────────────────────────────────»\n",
       "                                                                           »\n",
       "ancilla_1 -> 1 ────────────────────────────────────────────────────────────»\n",
       "                                                                           »\n",
       "ancilla_2 -> 2 ────────────────────────────────────────────────────────────»\n",
       "               ┌───────┐┌────┐┌──────────┐┌────┐┌────────┐┌─────────┐┌────┐»\n",
       "   q108_1 -> 3 ┤ RZ(π) ├┤ √X ├┤ RZ(3π/2) ├┤ √X ├┤ RZ(3π) ├┤ RZ(0.0) ├┤ √X ├»\n",
       "               ├───────┤├────┤├──────────┤├────┤├────────┤├─────────┤├────┤»\n",
       "   q108_0 -> 4 ┤ RZ(π) ├┤ √X ├┤ RZ(3π/2) ├┤ √X ├┤ RZ(3π) ├┤ RZ(0.0) ├┤ √X ├»\n",
       "               └───────┘└────┘└──────────┘└────┘└────────┘└─────────┘└────┘»\n",
       "       meas: 2/════════════════════════════════════════════════════════════»\n",
       "                                                                           »\n",
       "«                                                                           »\n",
       "«ancilla_0 -> 0 ────────────────────────────────────────────────────────────»\n",
       "«                                                                           »\n",
       "«ancilla_1 -> 1 ────────────────────────────────────────────────────────────»\n",
       "«                                                                           »\n",
       "«ancilla_2 -> 2 ────────────────────────────────────────────────────────────»\n",
       "«               ┌──────────┐┌────┐┌──────────┐┌───┐       ┌─────────┐       »\n",
       "«   q108_1 -> 3 ┤ RZ(3π/2) ├┤ √X ├┤ RZ(5π/2) ├┤ X ├───────┤ RZ(π/2) ├───────»\n",
       "«               └┬────────┬┘├────┤└┬────────┬┘└─┬─┘┌──────┴─────────┴──────┐»\n",
       "«   q108_0 -> 4 ─┤ RZ(2π) ├─┤ √X ├─┤ RZ(3π) ├───■──┤ RZ(0.192835807949161) ├»\n",
       "«                └────────┘ └────┘ └────────┘      └───────────────────────┘»\n",
       "«       meas: 2/════════════════════════════════════════════════════════════»\n",
       "«                                                                           »\n",
       "«                                                                    »\n",
       "«ancilla_0 -> 0 ─────────────────────────────────────────────────────»\n",
       "«                                                                    »\n",
       "«ancilla_1 -> 1 ─────────────────────────────────────────────────────»\n",
       "«                                                                    »\n",
       "«ancilla_2 -> 2 ─────────────────────────────────────────────────────»\n",
       "«               ┌────┐┌──────────┐┌────┐┌──────────────────────┐┌───┐»\n",
       "«   q108_1 -> 3 ┤ √X ├┤ RZ(3π/2) ├┤ √X ├┤ RZ(12.7677355292747) ├┤ X ├»\n",
       "«               ├────┤└┬────────┬┘├────┤├──────────────────────┤└─┬─┘»\n",
       "«   q108_0 -> 4 ┤ √X ├─┤ RZ(2π) ├─┤ √X ├┤ RZ(14.3300027491032) ├──■──»\n",
       "«               └────┘ └────────┘ └────┘└──────────────────────┘     »\n",
       "«       meas: 2/═════════════════════════════════════════════════════»\n",
       "«                                                                    »\n",
       "«                                                            »\n",
       "«ancilla_0 -> 0 ─────────────────────────────────────────────»\n",
       "«                                                            »\n",
       "«ancilla_1 -> 1 ─────────────────────────────────────────────»\n",
       "«                                                            »\n",
       "«ancilla_2 -> 2 ─────────────────────────────────────────────»\n",
       "«               ┌──────────────────────┐┌────┐┌───────┐┌────┐»\n",
       "«   q108_1 -> 3 ┤ RZ(1.47011386933715) ├┤ √X ├┤ RZ(π) ├┤ √X ├»\n",
       "«               ├──────────────────────┤├────┤├───────┤├────┤»\n",
       "«   q108_0 -> 4 ┤ RZ(3.09125142486092) ├┤ √X ├┤ RZ(π) ├┤ √X ├»\n",
       "«               └──────────────────────┘└────┘└───────┘└────┘»\n",
       "«       meas: 2/═════════════════════════════════════════════»\n",
       "«                                                            »\n",
       "«                                                                          »\n",
       "«ancilla_0 -> 0 ───────────────────────────────────────────────────────────»\n",
       "«                                                                          »\n",
       "«ancilla_1 -> 1 ───────────────────────────────────────────────────────────»\n",
       "«                                                                          »\n",
       "«ancilla_2 -> 2 ───────────────────────────────────────────────────────────»\n",
       "«               ┌──────────────────────┐┌─────────┐┌────┐ ┌────────┐ ┌────┐»\n",
       "«   q108_1 -> 3 ┤ RZ(10.8948918301065) ├┤ RZ(π/4) ├┤ √X ├─┤ RZ(2π) ├─┤ √X ├»\n",
       "«               ├──────────────────────┤├─────────┤├────┤┌┴────────┴┐├────┤»\n",
       "«   q108_0 -> 4 ┤ RZ(9.27375427458276) ├┤ RZ(0.0) ├┤ √X ├┤ RZ(3π/2) ├┤ √X ├»\n",
       "«               └──────────────────────┘└─────────┘└────┘└──────────┘└────┘»\n",
       "«       meas: 2/═══════════════════════════════════════════════════════════»\n",
       "«                                                                          »\n",
       "«                                                                      »\n",
       "«ancilla_0 -> 0 ───────────────────────────────────────────────────────»\n",
       "«                                                                      »\n",
       "«ancilla_1 -> 1 ───────────────────────────────────────────────────────»\n",
       "«                                                                      »\n",
       "«ancilla_2 -> 2 ───────────────────────────────────────────────────────»\n",
       "«               ┌───────────┐┌───┐ ┌─────────┐ ┌────┐┌──────────┐┌────┐»\n",
       "«   q108_1 -> 3 ┤ RZ(11π/4) ├┤ X ├─┤ RZ(π/2) ├─┤ √X ├┤ RZ(3π/2) ├┤ √X ├»\n",
       "«               └─┬────────┬┘└─┬─┘┌┴─────────┴┐├────┤└┬────────┬┘├────┤»\n",
       "«   q108_0 -> 4 ──┤ RZ(3π) ├───■──┤ RZ(-3π/2) ├┤ √X ├─┤ RZ(2π) ├─┤ √X ├»\n",
       "«                 └────────┘      └───────────┘└────┘ └────────┘ └────┘»\n",
       "«       meas: 2/═══════════════════════════════════════════════════════»\n",
       "«                                                                      »\n",
       "«                                                                           »\n",
       "«ancilla_0 -> 0 ────────────────────────────────────────────────────────────»\n",
       "«                                                                           »\n",
       "«ancilla_1 -> 1 ────────────────────────────────────────────────────────────»\n",
       "«                                                                           »\n",
       "«ancilla_2 -> 2 ────────────────────────────────────────────────────────────»\n",
       "«               ┌──────────────────────┐┌───┐┌───────────────────────┐┌────┐»\n",
       "«   q108_1 -> 3 ┤ RZ(13.2793454863370) ├┤ X ├┤ RZ(-2.42861778161196) ├┤ √X ├»\n",
       "«               └──────┬────────┬──────┘└─┬─┘├───────────────────────┤├────┤»\n",
       "«   q108_0 -> 4 ───────┤ RZ(3π) ├─────────■──┤ RZ(-3.85456752556763) ├┤ √X ├»\n",
       "«                      └────────┘            └───────────────────────┘└────┘»\n",
       "«       meas: 2/════════════════════════════════════════════════════════════»\n",
       "«                                                                           »\n",
       "«                                                                              »\n",
       "«ancilla_0 -> 0 ───────────────────────────────────────────────────────────────»\n",
       "«                                                                              »\n",
       "«ancilla_1 -> 1 ───────────────────────────────────────────────────────────────»\n",
       "«                                                                              »\n",
       "«ancilla_2 -> 2 ───────────────────────────────────────────────────────────────»\n",
       "«               ┌──────────┐┌────┐┌────────┐┌─────────┐┌────┐┌──────────┐┌────┐»\n",
       "«   q108_1 -> 3 ┤ RZ(3π/2) ├┤ √X ├┤ RZ(2π) ├┤ RZ(π/2) ├┤ √X ├┤ RZ(3π/2) ├┤ √X ├»\n",
       "«               ├──────────┤├────┤├────────┤├─────────┤├────┤└┬───────┬─┘├────┤»\n",
       "«   q108_0 -> 4 ┤ RZ(3π/2) ├┤ √X ├┤ RZ(3π) ├┤ RZ(π/4) ├┤ √X ├─┤ RZ(π) ├──┤ √X ├»\n",
       "«               └──────────┘└────┘└────────┘└─────────┘└────┘ └───────┘  └────┘»\n",
       "«       meas: 2/═══════════════════════════════════════════════════════════════»\n",
       "«                                                                              »\n",
       "«                                                                      »\n",
       "«ancilla_0 -> 0 ───────────────────────────────────────────────────────»\n",
       "«                                                                      »\n",
       "«ancilla_1 -> 1 ───────────────────────────────────────────────────────»\n",
       "«                                                                      »\n",
       "«ancilla_2 -> 2 ───────────────────────────────────────────────────────»\n",
       "«                ┌──────────┐┌───┐ ┌─────────┐ ┌────┐┌──────────┐┌────┐»\n",
       "«   q108_1 -> 3 ─┤ RZ(5π/2) ├┤ X ├─┤ RZ(π/2) ├─┤ √X ├┤ RZ(3π/2) ├┤ √X ├»\n",
       "«               ┌┴──────────┤└─┬─┘┌┴─────────┴┐├────┤└┬────────┬┘├────┤»\n",
       "«   q108_0 -> 4 ┤ RZ(13π/4) ├──■──┤ RZ(-3π/2) ├┤ √X ├─┤ RZ(2π) ├─┤ √X ├»\n",
       "«               └───────────┘     └───────────┘└────┘ └────────┘ └────┘»\n",
       "«       meas: 2/═══════════════════════════════════════════════════════»\n",
       "«                                                                      »\n",
       "«                                                                          »\n",
       "«ancilla_0 -> 0 ───────────────────────────────────────────────────────────»\n",
       "«                                                                          »\n",
       "«ancilla_1 -> 1 ───────────────────────────────────────────────────────────»\n",
       "«                                                                          »\n",
       "«ancilla_2 -> 2 ───────────────────────────────────────────────────────────»\n",
       "«               ┌──────────────────────┐┌───┐┌──────────────────────┐┌────┐»\n",
       "«   q108_1 -> 3 ┤ RZ(13.2793454863370) ├┤ X ├┤ RZ(2.71268192618126) ├┤ √X ├»\n",
       "«               └──────┬────────┬──────┘└─┬─┘├──────────────────────┤├────┤»\n",
       "«   q108_0 -> 4 ───────┤ RZ(3π) ├─────────■──┤ RZ(1.19444936644757) ├┤ √X ├»\n",
       "«                      └────────┘            └──────────────────────┘└────┘»\n",
       "«       meas: 2/═══════════════════════════════════════════════════════════»\n",
       "«                                                                          »\n",
       "«                                                                         »\n",
       "«ancilla_0 -> 0 ──────────────────────────────────────────────────────────»\n",
       "«                                                                         »\n",
       "«ancilla_1 -> 1 ──────────────────────────────────────────────────────────»\n",
       "«                                                                         »\n",
       "«ancilla_2 -> 2 ──────────────────────────────────────────────────────────»\n",
       "«               ┌───────┐ ┌────┐┌──────────────────────┐┌──────────┐┌────┐»\n",
       "«   q108_1 -> 3 ┤ RZ(π) ├─┤ √X ├┤ RZ(12.1374598869506) ├┤ RZ(-π/2) ├┤ √X ├»\n",
       "«               ├───────┴┐├────┤├──────────────────────┤└┬────────┬┘├────┤»\n",
       "«   q108_0 -> 4 ┤ RZ(2π) ├┤ √X ├┤ RZ(12.9029985259897) ├─┤ RZ(-π) ├─┤ √X ├»\n",
       "«               └────────┘└────┘└──────────────────────┘ └────────┘ └────┘»\n",
       "«       meas: 2/══════════════════════════════════════════════════════════»\n",
       "«                                                                         »\n",
       "«                                                                     »\n",
       "«ancilla_0 -> 0 ──────────────────────────────────────────────────────»\n",
       "«                                                                     »\n",
       "«ancilla_1 -> 1 ──────────────────────────────────────────────────────»\n",
       "«                                                                     »\n",
       "«ancilla_2 -> 2 ──────────────────────────────────────────────────────»\n",
       "«               ┌──────────┐┌────┐ ┌────────┐ ┌───┐ ┌─────────┐ ┌────┐»\n",
       "«   q108_1 -> 3 ┤ RZ(3π/2) ├┤ √X ├─┤ RZ(2π) ├─┤ X ├─┤ RZ(π/2) ├─┤ √X ├»\n",
       "«               ├──────────┤├────┤┌┴────────┴┐└─┬─┘┌┴─────────┴┐├────┤»\n",
       "«   q108_0 -> 4 ┤ RZ(3π/2) ├┤ √X ├┤ RZ(5π/2) ├──■──┤ RZ(-3π/2) ├┤ √X ├»\n",
       "«               └──────────┘└────┘└──────────┘     └───────────┘└────┘»\n",
       "«       meas: 2/══════════════════════════════════════════════════════»\n",
       "«                                                                     »\n",
       "«                                                              »\n",
       "«ancilla_0 -> 0 ───────────────────────────────────────────────»\n",
       "«                                                              »\n",
       "«ancilla_1 -> 1 ───────────────────────────────────────────────»\n",
       "«                                                              »\n",
       "«ancilla_2 -> 2 ───────────────────────────────────────────────»\n",
       "«               ┌──────────┐┌────┐┌──────────────────────┐┌───┐»\n",
       "«   q108_1 -> 3 ┤ RZ(3π/2) ├┤ √X ├┤ RZ(12.7677355292747) ├┤ X ├»\n",
       "«               └┬────────┬┘├────┤└──────┬────────┬──────┘└─┬─┘»\n",
       "«   q108_0 -> 4 ─┤ RZ(2π) ├─┤ √X ├───────┤ RZ(3π) ├─────────■──»\n",
       "«                └────────┘ └────┘       └────────┘            »\n",
       "«       meas: 2/═══════════════════════════════════════════════»\n",
       "«                                                              »\n",
       "«                                                                            »\n",
       "«ancilla_0 -> 0 ─────────────────────────────────────────────────────────────»\n",
       "«                                                                            »\n",
       "«ancilla_1 -> 1 ─────────────────────────────────────────────────────────────»\n",
       "«                                                                            »\n",
       "«ancilla_2 -> 2 ─────────────────────────────────────────────────────────────»\n",
       "«               ┌──────────────────────┐┌────┐┌──────────┐┌────┐┌────────┐ ░ »\n",
       "«   q108_1 -> 3 ┤ RZ(1.36943141187941) ├┤ √X ├┤ RZ(3π/2) ├┤ √X ├┤ RZ(2π) ├─░─»\n",
       "«               ├──────────────────────┤├────┤├──────────┤├────┤├────────┤ ░ »\n",
       "«   q108_0 -> 4 ┤ RZ(1.36943141187941) ├┤ √X ├┤ RZ(3π/2) ├┤ √X ├┤ RZ(2π) ├─░─»\n",
       "«               └──────────────────────┘└────┘└──────────┘└────┘└────────┘ ░ »\n",
       "«       meas: 2/═════════════════════════════════════════════════════════════»\n",
       "«                                                                            »\n",
       "«                     \n",
       "«ancilla_0 -> 0 ──────\n",
       "«                     \n",
       "«ancilla_1 -> 1 ──────\n",
       "«                     \n",
       "«ancilla_2 -> 2 ──────\n",
       "«                  ┌─┐\n",
       "«   q108_1 -> 3 ───┤M├\n",
       "«               ┌─┐└╥┘\n",
       "«   q108_0 -> 4 ┤M├─╫─\n",
       "«               └╥┘ ║ \n",
       "«       meas: 2/═╩══╩═\n",
       "«                0  1 "
      ]
     },
     "execution_count": 25,
     "metadata": {},
     "output_type": "execute_result"
    }
   ],
   "source": [
    "circ_trans2.draw()"
   ]
  },
  {
   "cell_type": "code",
   "execution_count": 38,
   "id": "e83da2f6",
   "metadata": {},
   "outputs": [
    {
     "name": "stdout",
     "output_type": "stream",
     "text": [
      "6077caa865fc99dfebd7f71d\n"
     ]
    },
    {
     "data": {
      "image/png": "[encoded data removed]",
      "text/plain": [
       "<Figure size 504x360 with 1 Axes>"
      ]
     },
     "execution_count": 38,
     "metadata": {},
     "output_type": "execute_result"
    }
   ],
   "source": [
    "print(job2.job_id())\n",
    "simu_counts2 = execute(circ_trans2, backend=Aer.get_backend('qasm_simulator'), shots=8192).result().get_counts()\n",
    "real_counts2 = job2.result().get_counts()\n",
    "plot_histogram([simu_counts2, real_counts2], legend=['Simu', 'Raw'], title='2 Itrs')"
   ]
  },
  {
   "cell_type": "code",
   "execution_count": null,
   "id": "ed239c03",
   "metadata": {},
   "outputs": [],
   "source": []
  },
  {
   "cell_type": "code",
   "execution_count": 27,
   "id": "57f13d08",
   "metadata": {},
   "outputs": [
    {
     "name": "stdout",
     "output_type": "stream",
     "text": [
      "Circuit Depth is 108\n",
      "Job Status: job has successfully run\n"
     ]
    }
   ],
   "source": [
    "itr = 3\n",
    "unitary_qc3 = FP_Grover_unitary(n, indices_to_mark, itr, d, return_params = False)\n",
    "unitary_qc3.measure_all()\n",
    "\n",
    "# Transile the circuit to see what the actual circuit that can run on the real device\n",
    "circ_trans3 = transpile(unitary_qc3, backend, layout_method = \"noise_adaptive\", optimization_level=0) # Optimization level from 0 to 3, short circuit depth\n",
    "print(\"Circuit Depth is {:d}\".format(circ_trans3.depth()))\n",
    "job3 = execute(circ_trans3, backend=backend, shots=8192, optimization_level=0)\n",
    "job_monitor(job3)"
   ]
  },
  {
   "cell_type": "code",
   "execution_count": 37,
   "id": "69ae312e",
   "metadata": {},
   "outputs": [
    {
     "name": "stdout",
     "output_type": "stream",
     "text": [
      "6077cb1365fc994200d7f723\n"
     ]
    },
    {
     "data": {
      "image/png": "[encoded data removed]",
      "text/plain": [
       "<Figure size 504x360 with 1 Axes>"
      ]
     },
     "execution_count": 37,
     "metadata": {},
     "output_type": "execute_result"
    }
   ],
   "source": [
    "print(job3.job_id())\n",
    "simu_counts3 = execute(circ_trans3, backend=Aer.get_backend('qasm_simulator'), shots=8192).result().get_counts()\n",
    "plot_histogram([simu_counts3,job3.result().get_counts()], legend=['Simu', 'Raw'], title='3 Itrs')"
   ]
  },
  {
   "cell_type": "code",
   "execution_count": 36,
   "id": "122dcf81",
   "metadata": {},
   "outputs": [
    {
     "name": "stdout",
     "output_type": "stream",
     "text": [
      "Circuit Depth is 142\n",
      "Job Status: job has successfully run\n"
     ]
    }
   ],
   "source": [
    "itr = 4\n",
    "unitary_qc4 = FP_Grover_unitary(n, indices_to_mark, itr, d, return_params = False)\n",
    "unitary_qc4.measure_all()\n",
    "\n",
    "# Transile the circuit to see what the actual circuit that can run on the real device\n",
    "circ_trans4 = transpile(unitary_qc4, backend, layout_method = \"noise_adaptive\", optimization_level=0) # Optimization level from 0 to 3, short circuit depth\n",
    "print(\"Circuit Depth is {:d}\".format(circ_trans4.depth()))\n",
    "job4 = execute(circ_trans4, backend=backend, shots=8192, optimization_level=0)\n",
    "job_monitor(job4)"
   ]
  },
  {
   "cell_type": "code",
   "execution_count": 40,
   "id": "43bee9c1",
   "metadata": {},
   "outputs": [
    {
     "name": "stdout",
     "output_type": "stream",
     "text": [
      "6077d0ef2d58d01dbf21cb44\n"
     ]
    },
    {
     "data": {
      "image/png": "[encoded data removed]",
      "text/plain": [
       "<Figure size 504x360 with 1 Axes>"
      ]
     },
     "execution_count": 40,
     "metadata": {},
     "output_type": "execute_result"
    }
   ],
   "source": [
    "print(job4.job_id())\n",
    "simu_counts4 = execute(circ_trans4, backend=Aer.get_backend('qasm_simulator'), shots=8192).result().get_counts()\n",
    "plot_histogram([simu_counts4,job4.result().get_counts()], legend=['Simu', 'Raw'], title='4 Itrs')"
   ]
  },
  {
   "cell_type": "code",
   "execution_count": null,
   "id": "d4d10d50",
   "metadata": {},
   "outputs": [],
   "source": []
  }
 ],
 "metadata": {
  "kernelspec": {
   "display_name": "Python 3",
   "language": "python",
   "name": "python3"
  },
  "language_info": {
   "codemirror_mode": {
    "name": "ipython",
    "version": 3
   },
   "file_extension": ".py",
   "mimetype": "text/x-python",
   "name": "python",
   "nbconvert_exporter": "python",
   "pygments_lexer": "ipython3",
   "version": "3.7.10"
  }
 },
 "nbformat": 4,
 "nbformat_minor": 5
}
