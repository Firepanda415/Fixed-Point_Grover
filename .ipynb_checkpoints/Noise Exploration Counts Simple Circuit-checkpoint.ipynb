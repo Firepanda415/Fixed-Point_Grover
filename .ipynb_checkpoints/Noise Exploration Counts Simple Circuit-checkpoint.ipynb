{
 "cells": [
  {
   "cell_type": "code",
   "execution_count": 1,
   "id": "18aa226a",
   "metadata": {},
   "outputs": [],
   "source": [
    "import mpmath as mpm\n",
    "import numpy as np\n",
    "\n",
    "import matplotlib.pyplot as plt\n",
    "from matplotlib import cm\n",
    "plt.rcParams[\"figure.dpi\"] = 150\n",
    "\n",
    "from qiskit import QuantumCircuit\n",
    "from qiskit import Aer,execute, QuantumRegister,ClassicalRegister\n",
    "from qiskit.visualization import plot_histogram\n",
    "from qiskit.exceptions import QiskitError\n",
    "\n",
    "from qiskit import IBMQ\n",
    "from qiskit import transpile\n",
    "from qiskit.tools.monitor import job_monitor\n",
    "\n",
    "from qiskit.ignis.mitigation.measurement import (complete_meas_cal,CompleteMeasFitter,MeasurementFilter)\n",
    "\n",
    "from qiskit.ignis.verification.tomography import state_tomography_circuits, StateTomographyFitter\n",
    "from qiskit.quantum_info import DensityMatrix, Statevector\n",
    "from qiskit.quantum_info import state_fidelity\n",
    "import qiskit.ignis.mitigation.measurement as mc\n",
    "\n",
    "from FPG import * # The functions from FP Grover Implementation notebook\n",
    "import measfilter as mf # package for measurement error filter\n",
    "\n",
    "\n",
    "import warnings\n",
    "warnings.filterwarnings('ignore')\n",
    "\n",
    "import logging\n",
    "logger = logging.getLogger()\n",
    "logger.setLevel(logging.CRITICAL)"
   ]
  },
  {
   "cell_type": "code",
   "execution_count": 4,
   "id": "4927b229",
   "metadata": {},
   "outputs": [],
   "source": [
    "# Load IBMQ Account and choose a real backend\n",
    "IBMQ.load_account()\n",
    "provider = IBMQ.get_provider('ibm-q')\n",
    "name = 'ibmq_quito'\n",
    "backend = provider.get_backend(name)"
   ]
  },
  {
   "cell_type": "code",
   "execution_count": 2,
   "id": "b9b7e10c",
   "metadata": {},
   "outputs": [],
   "source": [
    "# Global variable\n",
    "# Input parameters for the Fixed-Point Grover's search\n",
    "n = 2\n",
    "itr = 10\n",
    "\n",
    "shots = 8192"
   ]
  },
  {
   "cell_type": "code",
   "execution_count": 3,
   "id": "5731a7a6",
   "metadata": {},
   "outputs": [],
   "source": [
    "def counts_to_probs(counts):\n",
    "    counts_shots = np.sum([v for v in counts.values()])\n",
    "    probs = np.zeros(2**(n), dtype=np.float64)\n",
    "    for k,v in counts.items():\n",
    "        probs[int(k,2)] = v/counts_shots\n",
    "    return probs\n",
    "\n",
    "def VD(p,q):\n",
    "    np_p = np.array(p)\n",
    "    np_q = np.array(q)\n",
    "    return 0.5*np.abs(np_p - np_q).sum()\n",
    "\n",
    "def one_itr(qc):\n",
    "    qc.h(0)\n",
    "    qc.cx(0,1)\n",
    "    qc.barrier()\n",
    "    qc.cx(0,1)\n",
    "    qc.h(0)\n",
    "    qc.barrier()\n",
    "\n",
    "# GHZ state\n",
    "def pure_circuit():\n",
    "    r = QuantumRegister(n)\n",
    "    qc = QuantumCircuit(r)\n",
    "    for it in range(itr):\n",
    "        one_itr(qc)\n",
    "    return r, qc  \n",
    "\n",
    "\n",
    "def noise_gates_circuit(noise_params):\n",
    "    angles = noise_params.reshape((3, n)) #NOT A NUMPY ARRAY FROM SCIPY.OPTIMIZE\n",
    "    \n",
    "    r = QuantumRegister(n)\n",
    "    qc = QuantumCircuit(r)\n",
    "    for it in range(itr):\n",
    "        one_itr(qc)\n",
    "        for q in range(n):\n",
    "            qc.u(angles[0,n-q-1], angles[1,n-q-1], angles[2,n-q-1], n-q-1) # Add noise/denoise here\n",
    "        qc.barrier()\n",
    "    return r, qc"
   ]
  },
  {
   "cell_type": "code",
   "execution_count": null,
   "id": "bbd55624",
   "metadata": {},
   "outputs": [],
   "source": []
  }
 ],
 "metadata": {
  "kernelspec": {
   "display_name": "Python 3",
   "language": "python",
   "name": "python3"
  },
  "language_info": {
   "codemirror_mode": {
    "name": "ipython",
    "version": 3
   },
   "file_extension": ".py",
   "mimetype": "text/x-python",
   "name": "python",
   "nbconvert_exporter": "python",
   "pygments_lexer": "ipython3",
   "version": "3.7.10"
  }
 },
 "nbformat": 4,
 "nbformat_minor": 5
}
