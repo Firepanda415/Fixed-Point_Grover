{
 "cells": [
  {
   "cell_type": "code",
   "execution_count": 1,
   "id": "possible-toilet",
   "metadata": {},
   "outputs": [],
   "source": [
    "import mpmath as mpm\n",
    "import numpy as np\n",
    "def Chbshv_poly(L, x): # Lth Chebyshev polynomial of the first kind\n",
    "    return mpm.cos(L * mpm.acos(x))\n",
    "    \n",
    "def Hn(n):\n",
    "    # Hadamard Gate H^{\\otimes n}\n",
    "    # Return the numpy array\n",
    "    H = 1/np.sqrt(2) * np.array([[1,1],[1,-1]])\n",
    "    Hn = H*1\n",
    "    for i in range(n-1):\n",
    "        Hn = np.kron(Hn, H)\n",
    "    return Hn\n",
    "\n",
    "\n",
    "def In(n):\n",
    "    # 2-by-2 Identity gate I^{\\otimes n}\n",
    "    # Reutrn the numpy array\n",
    "    I = np.array([[1,0],[0,1]])\n",
    "    In = I*1\n",
    "    for i in range(n-1):\n",
    "        In = np.kron(In, I)\n",
    "    return In\n",
    "\n",
    "def checkUnitary(A):\n",
    "    # Check if a given matrix A is unitary\n",
    "    # Return\n",
    "    nrow = A.shape[0]\n",
    "    return np.linalg.norm(A.dot(A.conj().T) - In(int(np.log2(nrow))))"
   ]
  },
  {
   "cell_type": "code",
   "execution_count": 2,
   "id": "useful-estimate",
   "metadata": {},
   "outputs": [],
   "source": [
    "# Input parameters for the Fixed-Point Grover's search\n",
    "n = 2 # Number of qubits \n",
    "indices_to_mark = 2 # An interger from 0 to 2**n\n",
    "\n",
    "itr = 1 # Number of iterations\n",
    "d = mpm.sqrt(0.2) # Success probability P_L >= 1 - d^2 if lambda = len(indices_to_mark)/2**n >= omega"
   ]
  },
  {
   "cell_type": "code",
   "execution_count": 3,
   "id": "sharp-hostel",
   "metadata": {},
   "outputs": [
    {
     "name": "stdout",
     "output_type": "stream",
     "text": [
      "gamma^-1 =  (1.118033988749895+0j)\n",
      "lambda =  0.25\n",
      "Omega =  (0.20000000000000007+0j)\n",
      "alpha [-1.82347658+0.j]\n",
      "beta [1.82347658+0.j]\n"
     ]
    }
   ],
   "source": [
    "# Compute the rest of parameters\n",
    "l = itr\n",
    "L = 2*l+1\n",
    "\n",
    "gamma_inverse = Chbshv_poly(1/L, 1/d)\n",
    "omega = 1 - Chbshv_poly(1/L, 1/d)**(-2)\n",
    "\n",
    "alpha =  mpm.zeros(1,l)\n",
    "beta = mpm.zeros(1,l)\n",
    "for i in range(l): # use i instead of j since python use 1j for sqrt(-1)\n",
    "    alpha[i] = 2*mpm.acot(mpm.tan(2*mpm.pi*(i+1)/L) * mpm.sqrt(1-1/gamma_inverse**2))\n",
    "    beta[l-(i+1)+1-1] = -alpha[i]\n",
    "    \n",
    "# Convert to numpy\n",
    "gamma_inverse = np.array([gamma_inverse], dtype=complex)[0]\n",
    "omega = np.array([omega], dtype=complex)[0]\n",
    "alpha = np.array(alpha.tolist()[0], dtype=complex)\n",
    "beta = np.array(beta.tolist()[0], dtype=complex)\n",
    "\n",
    "print(\"gamma^-1 = \", gamma_inverse)\n",
    "print(\"lambda = \", 1/2**n)\n",
    "print(\"Omega = \", omega)\n",
    "print(\"alpha\", alpha)\n",
    "print(\"beta\", beta)"
   ]
  },
  {
   "cell_type": "code",
   "execution_count": 4,
   "id": "integrated-wellington",
   "metadata": {},
   "outputs": [
    {
     "name": "stdout",
     "output_type": "stream",
     "text": [
      "The probability of measuring each basis (from |0...0> to |1...1>):\n",
      " [[0.03515625]\n",
      " [0.03515625]\n",
      " [0.89453125]\n",
      " [0.03515625]]\n",
      "The probability of measuring target basis 0.895\n"
     ]
    }
   ],
   "source": [
    "# Simulate the computation process\n",
    "# Start with |0...0> as default to many quantum computing platforms\n",
    "ket0 = np.zeros((2**n, 1))\n",
    "ket0[0] = 1\n",
    "\n",
    "# Initilize the state with matrix A, where |s> = A|0...0>\n",
    "A = Hn(n) # Use H^{\\otimes n} to initilize the state\n",
    "kets = np.dot(A, ket0) #Compute |s>\n",
    "\n",
    "# Compute |t>, the target state\n",
    "kett = np.zeros((2**n, 1))\n",
    "kett[indices_to_mark] = 1 \n",
    "\n",
    "# State Grover iterations\n",
    "starting_state = kets\n",
    "for i in range(itr):\n",
    "    a = alpha[i] # selected alpha\n",
    "    b = beta[i] # selected beta\n",
    "    \n",
    "    # Construct S_t(beta)\n",
    "    Sbeta = In(n) - (1-np.exp(1j*b))*np.dot(kett,kett.T)\n",
    "    if checkUnitary(Sbeta) > 1e-8:\n",
    "        print(\"Potential non-unitary S_beta at itr {:d}, norm of difference is {:.4g}\".format(i, checkUnitary(Sbeta)))\n",
    "    # Construct S_s(alpha)\n",
    "    Salpha = In(n) - (1-np.exp(-1j*a))*np.dot(kets,kets.T)\n",
    "    if checkUnitary(Salpha) > 1e-8:\n",
    "        print(\"Potential non-unitary S_alpha at itr {:d}, norm of difference is {:.4g}\".format(i, checkUnitary(Salpha)))\n",
    "\n",
    "    starting_state = np.dot(Salpha, np.dot(Sbeta, starting_state))\n",
    "    \n",
    "sol = starting_state*1 # Final output state\n",
    "print(\"The probability of measuring each basis (from |0...0> to |1...1>):\\n\", np.abs(sol)**2)\n",
    "print(\"The probability of measuring target basis {:.3g}\".format((np.abs(sol)**2)[indices_to_mark][0]))"
   ]
  },
  {
   "cell_type": "code",
   "execution_count": 5,
   "id": "moving-morocco",
   "metadata": {},
   "outputs": [
    {
     "data": {
      "text/html": [
       "<pre style=\"word-wrap: normal;white-space: pre;background: #fff0;line-height: 1.1;font-family: &quot;Courier New&quot;,Courier,monospace\">     ┌───┐┌──────────┐┌──────────┐┌─┐   \n",
       "q_0: ┤ H ├┤0         ├┤0         ├┤M├───\n",
       "     ├───┤│  unitary ││  unitary │└╥┘┌─┐\n",
       "q_1: ┤ H ├┤1         ├┤1         ├─╫─┤M├\n",
       "     └───┘└──────────┘└──────────┘ ║ └╥┘\n",
       "c: 2/══════════════════════════════╩══╩═\n",
       "                                   0  1 </pre>"
      ],
      "text/plain": [
       "     ┌───┐┌──────────┐┌──────────┐┌─┐   \n",
       "q_0: ┤ H ├┤0         ├┤0         ├┤M├───\n",
       "     ├───┤│  unitary ││  unitary │└╥┘┌─┐\n",
       "q_1: ┤ H ├┤1         ├┤1         ├─╫─┤M├\n",
       "     └───┘└──────────┘└──────────┘ ║ └╥┘\n",
       "c: 2/══════════════════════════════╩══╩═\n",
       "                                   0  1 "
      ]
     },
     "execution_count": 5,
     "metadata": {},
     "output_type": "execute_result"
    }
   ],
   "source": [
    "from qiskit.quantum_info import Operator\n",
    "from qiskit import QuantumCircuit\n",
    "from qiskit import Aer,execute, QuantumRegister, transpile\n",
    "from qiskit.visualization import plot_histogram\n",
    "\n",
    "qc = QuantumCircuit(n, n)\n",
    "for i in range(n):\n",
    "    qc.h(i)\n",
    "for i in range(itr):\n",
    "    a = alpha[i] # selected alpha\n",
    "    b = beta[i] # selected beta\n",
    "\n",
    "    Sbeta = In(n) - (1-np.exp(1j*b))*np.dot(kett,kett.T)\n",
    "    qc.unitary(Operator(Sbeta), range(n))\n",
    "    Salpha = In(n) - (1-np.exp(-1j*a))*np.dot(kets,kets.T)\n",
    "    qc.unitary(Operator(Salpha), range(n))\n",
    "\n",
    "qc.measure(range(n), range(n))\n",
    "qc.draw(output='text')"
   ]
  },
  {
   "cell_type": "code",
   "execution_count": 6,
   "id": "lesser-omaha",
   "metadata": {},
   "outputs": [
    {
     "data": {
      "image/png": "[encoded data removed]",
      "text/plain": [
       "<Figure size 504x360 with 1 Axes>"
      ]
     },
     "execution_count": 6,
     "metadata": {},
     "output_type": "execute_result"
    }
   ],
   "source": [
    "simulator = Aer.get_backend('qasm_simulator')\n",
    "counts = execute(qc, backend=simulator, shots=10000).result().get_counts()\n",
    "plot_histogram(counts)"
   ]
  },
  {
   "cell_type": "code",
   "execution_count": 7,
   "id": "animated-virginia",
   "metadata": {},
   "outputs": [],
   "source": [
    "# Load IBMQ Account and choose a real backend\n",
    "from qiskit import IBMQ\n",
    "from qiskit.tools.monitor import job_monitor\n",
    "IBMQ.load_account()\n",
    "provider = IBMQ.get_provider('ibm-q')\n",
    "name = 'ibmq_belem'\n",
    "backend = provider.get_backend(name)"
   ]
  },
  {
   "cell_type": "code",
   "execution_count": 8,
   "id": "graduate-stereo",
   "metadata": {},
   "outputs": [
    {
     "name": "stdout",
     "output_type": "stream",
     "text": [
      "Circuit Depth is 22\n",
      "Job Status: job has successfully run\n"
     ]
    }
   ],
   "source": [
    "# Transile the circuit to see what the actual circuit that can run on the real device\n",
    "circ_trans = transpile(qc, backend, optimization_level=1) # Optimization level from 0 to 3, short circuit depth\n",
    "print(\"Circuit Depth is {:d}\".format(circ_trans.depth()))\n",
    "job = execute(circ_trans, backend=backend, shots=8192, optimization_level=0)\n",
    "job_monitor(job)"
   ]
  },
  {
   "cell_type": "code",
   "execution_count": 9,
   "id": "316f66f1",
   "metadata": {},
   "outputs": [
    {
     "data": {
      "image/png": "[encoded data removed]",
      "text/plain": [
       "<Figure size 504x360 with 1 Axes>"
      ]
     },
     "execution_count": 9,
     "metadata": {},
     "output_type": "execute_result"
    }
   ],
   "source": [
    "real_counts = job.result().get_counts()\n",
    "plot_histogram(real_counts)"
   ]
  }
 ],
 "metadata": {
  "kernelspec": {
   "display_name": "Python 3",
   "language": "python",
   "name": "python3"
  },
  "language_info": {
   "codemirror_mode": {
    "name": "ipython",
    "version": 3
   },
   "file_extension": ".py",
   "mimetype": "text/x-python",
   "name": "python",
   "nbconvert_exporter": "python",
   "pygments_lexer": "ipython3",
   "version": "3.7.10"
  }
 },
 "nbformat": 4,
 "nbformat_minor": 5
}
